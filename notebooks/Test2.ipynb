{
 "cells": [
  {
   "cell_type": "code",
   "execution_count": 1,
   "id": "e4f2b31d",
   "metadata": {},
   "outputs": [],
   "source": [
    "import sys\n",
    "sys.path.append(\"..\")\n",
    "from charlm.ngram import CharNGram\n",
    "import random"
   ]
  },
  {
   "cell_type": "code",
   "execution_count": 2,
   "id": "9401ad27",
   "metadata": {},
   "outputs": [],
   "source": [
    "with open(\"../data/dog_names.txt\", \"r\") as f:\n",
    "    names = list(set([i for i in f.read().splitlines()]))"
   ]
  },
  {
   "cell_type": "code",
   "execution_count": 3,
   "id": "f24b2f3b",
   "metadata": {},
   "outputs": [],
   "source": [
    "names_train = random.sample(names, k=int(0.95*(len(names))))\n",
    "names_test = list(set(names) - set(names_train))"
   ]
  },
  {
   "cell_type": "code",
   "execution_count": 5,
   "id": "f74c40fc",
   "metadata": {},
   "outputs": [],
   "source": [
    "ngram_dog_names = CharNGram(size=10)\n",
    "ngram_dog_names.fit(names_train)\n",
    "words = ngram_dog_names.generate_words(1000)"
   ]
  },
  {
   "cell_type": "code",
   "execution_count": null,
   "id": "e4325116",
   "metadata": {},
   "outputs": [],
   "source": [
    "ngram_dog_names.calculate_mean_perplexity(names_train)"
   ]
  },
  {
   "cell_type": "code",
   "execution_count": 10,
   "id": "61db2001",
   "metadata": {},
   "outputs": [],
   "source": [
    "ngram_dog_names = CharNGram(size=10)"
   ]
  },
  {
   "cell_type": "code",
   "execution_count": null,
   "id": "18d2a3de",
   "metadata": {},
   "outputs": [],
   "source": []
  }
 ],
 "metadata": {
  "kernelspec": {
   "display_name": "charlm",
   "language": "python",
   "name": "charlm"
  },
  "language_info": {
   "codemirror_mode": {
    "name": "ipython",
    "version": 3
   },
   "file_extension": ".py",
   "mimetype": "text/x-python",
   "name": "python",
   "nbconvert_exporter": "python",
   "pygments_lexer": "ipython3",
   "version": "3.11.9"
  }
 },
 "nbformat": 4,
 "nbformat_minor": 5
}
